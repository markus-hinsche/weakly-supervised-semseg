{
 "cells": [
  {
   "cell_type": "markdown",
   "metadata": {},
   "source": [
    "# Weakly-supervised Semantic Segmentation"
   ]
  },
  {
   "cell_type": "code",
   "execution_count": null,
   "metadata": {},
   "outputs": [],
   "source": [
    "import sys\n",
    "import os\n",
    "sys.path.append(\"../\") "
   ]
  },
  {
   "cell_type": "code",
   "execution_count": null,
   "metadata": {},
   "outputs": [],
   "source": [
    "%reload_ext autoreload\n",
    "%autoreload 2\n",
    "%matplotlib inline"
   ]
  },
  {
   "cell_type": "code",
   "execution_count": null,
   "metadata": {},
   "outputs": [],
   "source": [
    "import os\n",
    "from pathlib import Path\n",
    "import re\n",
    "\n",
    "from fastai.vision import *\n",
    "from fastai.callbacks.hooks import *\n",
    "from fastai.utils.mem import *"
   ]
  },
  {
   "cell_type": "code",
   "execution_count": null,
   "metadata": {},
   "outputs": [],
   "source": [
    "from config import (IMAGE_DATA_DIR, TILES_DIR, \n",
    "                    LABELS, RED, BLACK, N1, N2, N_validation, CODES, \n",
    "                    BASE_DIR, MODEL_DIR\n",
    "                   )\n",
    "from loss_custom import WeakCrossEntropy\n",
    "from metrics_custom import acc_weakly, acc_satellite\n",
    "from parameters import IMG_SIZE_RATIO\n",
    "from util import set_seed, is_in_set_n1_or_nvalidation, is_in_set_nvalidation, REGEX_IMG_FILE_NAME_WITH_LABEL_VECTOR, is_in_set_n2_or_nvalidation, get_y_colors, has_a_valid_color, show_prediction_vs_actual\n",
    "set_seed(seed=42)\n",
    "free = gpu_mem_get_free_no_cache(); free"
   ]
  },
  {
   "cell_type": "code",
   "execution_count": null,
   "metadata": {},
   "outputs": [],
   "source": [
    "image_tiles_fnames = os.listdir(BASE_DIR / TILES_DIR)"
   ]
  },
  {
   "cell_type": "code",
   "execution_count": null,
   "metadata": {},
   "outputs": [],
   "source": [
    "fname = image_tiles_fnames[0]; fname"
   ]
  },
  {
   "cell_type": "code",
   "execution_count": null,
   "metadata": {},
   "outputs": [],
   "source": [
    "img = open_image(BASE_DIR / TILES_DIR / fname)\n",
    "img"
   ]
  },
  {
   "cell_type": "markdown",
   "metadata": {},
   "source": [
    "### Load data"
   ]
  },
  {
   "cell_type": "code",
   "execution_count": null,
   "metadata": {},
   "outputs": [],
   "source": [
    "codes = LABELS\n",
    "# codes = LABELS+[RED, BLACK]\n",
    "\n",
    "src_size = np.array(img.shape[1:])\n",
    "size = (src_size * IMG_SIZE_RATIO).astype(int)\n",
    "\n",
    "item_list = (ImageList.from_folder(BASE_DIR / TILES_DIR)\n",
    "             .filter_by_func(partial(is_in_set_n2_or_nvalidation, regex_obj=REGEX_IMG_FILE_NAME_WITH_LABEL_VECTOR))\n",
    "             .filter_by_func(has_a_valid_color)\n",
    "             .split_by_valid_func(partial(is_in_set_nvalidation, regex_obj=REGEX_IMG_FILE_NAME_WITH_LABEL_VECTOR))\n",
    "             .label_from_func(get_y_colors, classes=codes)\n",
    "             .transform(get_transforms(), size=size)\n",
    "            )"
   ]
  },
  {
   "cell_type": "code",
   "execution_count": null,
   "metadata": {},
   "outputs": [],
   "source": [
    "item_list"
   ]
  },
  {
   "cell_type": "code",
   "execution_count": null,
   "metadata": {},
   "outputs": [],
   "source": [
    "# DEBUG\n",
    "item_list.train.y[0]"
   ]
  },
  {
   "cell_type": "code",
   "execution_count": null,
   "metadata": {},
   "outputs": [],
   "source": [
    "# item_list.train.items[0]\n",
    "item_list.train.c"
   ]
  },
  {
   "cell_type": "code",
   "execution_count": null,
   "metadata": {},
   "outputs": [],
   "source": [
    "bs = 64\n",
    "data = item_list.databunch(bs=bs).normalize(imagenet_stats)\n",
    "data.c = 5"
   ]
  },
  {
   "cell_type": "code",
   "execution_count": null,
   "metadata": {},
   "outputs": [],
   "source": [
    "data.classes[:10], len(data.classes)"
   ]
  },
  {
   "cell_type": "code",
   "execution_count": null,
   "metadata": {},
   "outputs": [],
   "source": [
    "data"
   ]
  },
  {
   "cell_type": "code",
   "execution_count": null,
   "metadata": {},
   "outputs": [],
   "source": [
    "data.show_batch(2, figsize=(10,7))"
   ]
  },
  {
   "cell_type": "code",
   "execution_count": null,
   "metadata": {},
   "outputs": [],
   "source": [
    "data.show_batch(2, figsize=(10,7), ds_type=DatasetType.Valid)"
   ]
  },
  {
   "cell_type": "code",
   "execution_count": null,
   "metadata": {},
   "outputs": [],
   "source": [
    "# item_list\n",
    "\n",
    "# all tiles: 4497\n",
    "# 935 / 4497 = 20%\n",
    "# 390 / 4497 = 8.6%\n",
    "\n",
    "# This seems to be the desired split"
   ]
  },
  {
   "cell_type": "markdown",
   "metadata": {},
   "source": [
    "## Model\n",
    "\n",
    "Train and compare semantic segmentation networks, using the following data: Task (i) N1 pixel level labels"
   ]
  },
  {
   "cell_type": "code",
   "execution_count": null,
   "metadata": {},
   "outputs": [],
   "source": [
    "# wd=0.1 # TODO\n",
    "wd=0.01"
   ]
  },
  {
   "cell_type": "code",
   "execution_count": null,
   "metadata": {},
   "outputs": [],
   "source": [
    "learn = unet_learner(data, \n",
    "                     models.resnet18, \n",
    "                     loss_func=WeakCrossEntropy(CODES, axis=1),\n",
    "                     metrics=[acc_weakly], \n",
    "                     wd=wd,\n",
    "                     model_dir=MODEL_DIR\n",
    "                    )"
   ]
  },
  {
   "cell_type": "code",
   "execution_count": null,
   "metadata": {},
   "outputs": [],
   "source": [
    "lr=1e-3"
   ]
  },
  {
   "cell_type": "code",
   "execution_count": null,
   "metadata": {},
   "outputs": [],
   "source": [
    "learn.fit_one_cycle(1, slice(lr), pct_start=0.9)"
   ]
  },
  {
   "cell_type": "code",
   "execution_count": null,
   "metadata": {},
   "outputs": [],
   "source": [
    "learn.recorder.plot_losses(skip_start=50, show_grid=True)\n",
    "learn.recorder.plot_metrics(skip_start=50, show_grid=True)"
   ]
  },
  {
   "cell_type": "code",
   "execution_count": null,
   "metadata": {},
   "outputs": [],
   "source": [
    "learn.save('ws-stage-1')"
   ]
  },
  {
   "cell_type": "code",
   "execution_count": null,
   "metadata": {},
   "outputs": [],
   "source": [
    "learn.load('ws-stage-1');"
   ]
  },
  {
   "cell_type": "markdown",
   "metadata": {},
   "source": [
    "## Show Results"
   ]
  },
  {
   "cell_type": "code",
   "execution_count": null,
   "metadata": {},
   "outputs": [],
   "source": [
    "# Get all predictions\n",
    "pred, y = learn.get_preds(ds_type=DatasetType.Valid)"
   ]
  },
  {
   "cell_type": "code",
   "execution_count": null,
   "metadata": {},
   "outputs": [],
   "source": [
    "show_prediction_vs_actual(0, pred, y)"
   ]
  },
  {
   "cell_type": "code",
   "execution_count": null,
   "metadata": {},
   "outputs": [],
   "source": [
    "show_prediction_vs_actual(1, pred, y)"
   ]
  },
  {
   "cell_type": "code",
   "execution_count": null,
   "metadata": {},
   "outputs": [],
   "source": [
    "show_prediction_vs_actual(2, pred, y)"
   ]
  },
  {
   "cell_type": "markdown",
   "metadata": {},
   "source": [
    "## Calculate acc_satellite"
   ]
  },
  {
   "cell_type": "code",
   "execution_count": null,
   "metadata": {},
   "outputs": [],
   "source": [
    "# load N_validation pixel-level labels\n",
    "\n",
    "\n",
    "# predict for "
   ]
  },
  {
   "cell_type": "code",
   "execution_count": null,
   "metadata": {},
   "outputs": [],
   "source": [
    "from config import GT_ADJ_TILES_DIR, IMAGE_DATA_TILES_DIR\n",
    "gt_tiles_dir = GT_ADJ_TILES_DIR\n",
    "\n",
    "def get_y_fn(x):\n",
    "    return BASE_DIR / gt_tiles_dir / x.name"
   ]
  },
  {
   "cell_type": "code",
   "execution_count": null,
   "metadata": {},
   "outputs": [],
   "source": [
    "image_tiles_fnames = os.listdir(BASE_DIR / IMAGE_DATA_TILES_DIR)\n",
    "fname = image_tiles_fnames[0]\n",
    "mask = open_mask(BASE_DIR / gt_tiles_dir / fname)\n",
    "src_size = np.array(mask.shape[1:])"
   ]
  },
  {
   "cell_type": "code",
   "execution_count": null,
   "metadata": {},
   "outputs": [],
   "source": [
    "base_path = \"top_mosaic_09cm_area\"\n",
    "prog = re.compile(fr\"{base_path}(?P<area_id>\\d+)_tile(?P<tile_id>\\d+).tif\")\n",
    "\n",
    "def is_in_set(x, N):\n",
    "    fname = x.name  # e.g.: top_mosaic_09cm_area30_tile120.tif'\n",
    "\n",
    "    match_result = prog.search(fname)\n",
    "    area_id = match_result.group('area_id')\n",
    "    tile_id = match_result.group('tile_id')\n",
    "    image_fname = f\"{base_path}{area_id}.tif\"  # e.g.: top_mosaic_09cm_area30.tif'\n",
    "    return image_fname in N\n",
    "\n",
    "is_in_set_n1 = partial(is_in_set, N=N1)\n",
    "is_in_set_n2 = partial(is_in_set, N=N2)\n",
    "is_in_set_nvalidation = partial(is_in_set, N=N_validation)\n",
    "is_in_set_n1_or_nvalidation = partial(is_in_set, N=N1+N_validation)\n",
    "\n",
    "codes = LABELS+[RED, BLACK]\n",
    "\n",
    "src_size = np.array(mask.shape[1:])\n",
    "src_size,mask.data\n",
    "# size = src_size // 2  # TODO\n",
    "size = src_size\n",
    "\n",
    "fs_item_list = (SegmentationItemList.from_folder(BASE_DIR / IMAGE_DATA_TILES_DIR)  #returns SegmentationItemList\n",
    "             .filter_by_func(is_in_set_n1_or_nvalidation)  #returns SegmentationItemList\n",
    "             .split_by_valid_func(is_in_set_nvalidation)  #returns ItemLists(SegmentationItemList, SegmentationItemList)\n",
    "             .label_from_func(get_y_fn, classes=codes)  #returns LabelLists(LabelList, SegmentationItemList)\n",
    "             .transform(get_transforms(), size=size, tfm_y=True)\n",
    "            )"
   ]
  },
  {
   "cell_type": "code",
   "execution_count": null,
   "metadata": {},
   "outputs": [],
   "source": [
    "bs = 64\n",
    "fs_data = fs_item_list.databunch(bs=bs).normalize(imagenet_stats)\n",
    "\n",
    "wd=0.1"
   ]
  },
  {
   "cell_type": "code",
   "execution_count": null,
   "metadata": {},
   "outputs": [],
   "source": [
    "fs_learn = unet_learner(fs_data, \n",
    "                        models.resnet18, \n",
    "                        metrics=acc_satellite, \n",
    "                        wd=wd, \n",
    "                        model_dir='/home/jupyter/weakly-supervised-semseg/models'\n",
    "                       )"
   ]
  },
  {
   "cell_type": "code",
   "execution_count": null,
   "metadata": {},
   "outputs": [],
   "source": [
    "fs_learn.load('ws-stage-1');"
   ]
  },
  {
   "cell_type": "code",
   "execution_count": null,
   "metadata": {},
   "outputs": [],
   "source": []
  },
  {
   "cell_type": "code",
   "execution_count": null,
   "metadata": {},
   "outputs": [],
   "source": []
  }
 ],
 "metadata": {
  "environment": {
   "name": "pytorch-gpu.1-4.m50",
   "type": "gcloud",
   "uri": "gcr.io/deeplearning-platform-release/pytorch-gpu.1-4:m50"
  },
  "kernelspec": {
   "display_name": "Python 3",
   "language": "python",
   "name": "python3"
  },
  "language_info": {
   "codemirror_mode": {
    "name": "ipython",
    "version": 3
   },
   "file_extension": ".py",
   "mimetype": "text/x-python",
   "name": "python",
   "nbconvert_exporter": "python",
   "pygments_lexer": "ipython3",
   "version": "3.7.5"
  }
 },
 "nbformat": 4,
 "nbformat_minor": 4
}
